{
 "cells": [
  {
   "cell_type": "code",
   "execution_count": null,
   "metadata": {},
   "outputs": [],
   "source": [
    "import c3d\n",
    "\n",
    "with open('data.c3d', 'rb') as handle:\n",
    "    reader = c3d.Reader(handle)\n",
    "    for i, (points, analog) in enumerate(reader.read_frames()):\n",
    "        print('Frame {}: {}'.format(i, points.round(2)))"
   ]
  }
 ],
 "metadata": {
  "kernelspec": {
   "display_name": "Python 3",
   "language": "python",
   "name": "python3"
  },
  "language_info": {
   "name": "python",
   "version": "3.13.0"
  }
 },
 "nbformat": 4,
 "nbformat_minor": 2
}
